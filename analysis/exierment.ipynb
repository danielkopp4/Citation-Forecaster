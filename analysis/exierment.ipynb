{
    "cells": [
     {
      "cell_type": "code",
      "execution_count": 3,
      "metadata": {},
      "outputs": [],
      "source": [
       "import pandas as pd\n",
       "from sklearn.model_selection import train_test_split\n",
       "from sklearn.metrics import balanced_accuracy_score\n",
       "from imblearn.over_sampling import RandomOverSampler\n",
       "import numpy as np\n",
       "import matplotlib.pyplot as plt\n",
       "import scipy.stats as st\n",
       "from catboost import CatBoostClassifier\n",
       "from sklearn.svm import SVC\n",
       "from sklearn.exceptions import ConvergenceWarning\n",
       "from sklearn.ensemble import RandomForestClassifier\n",
       "from sklearn.linear_model import LogisticRegression\n",
       "from sklearn.preprocessing import OrdinalEncoder, StandardScaler\n",
       "import itertools\n",
       "import seaborn as sns\n",
       "import warnings\n",
       "\n",
       "warnings.filterwarnings(\"ignore\", category=ConvergenceWarning)"
      ]
     },
     {
      "cell_type": "code",
      "execution_count": 4,
      "metadata": {},
      "outputs": [],
      "source": [
       "models = list(zip(\n",
       "    [\n",
       "        \"Logistic Regression\", \n",
       "        \"SVC (Linear)\", \n",
       "        \"SVC (RBF)\", \n",
       "        \"Random Forest\"\n",
       "    ],\n",
       "    [\n",
       "        LogisticRegression(solver = 'saga', fit_intercept = True, random_state = 42, n_jobs = 1),\n",
       "        SVC(kernel = \"linear\", random_state = 42),\n",
       "        SVC(kernel = \"rbf\", random_state = 42),\n",
       "        RandomForestClassifier(n_estimators = 100, random_state = 42, n_jobs = 1)\n",
       "    ]\n",
       "))"
      ]
     },
     {
      "cell_type": "code",
      "execution_count": 5,
      "metadata": {},
      "outputs": [
       {
        "name": "stderr",
        "output_type": "stream",
        "text": [
         "Bins whose width are too small (i.e., <= 1e-8) in feature 0 are removed. Consider decreasing the number of bins.\n"
        ]
       }
      ],
      "source": [
       "from load_adult import EXPORTED_DATASET\n",
       "preprocess_dataset, dataset, Y_VAR = EXPORTED_DATASET\n",
       "preprop = preprocess_dataset(dataset)"
      ]
     },
     {
      "cell_type": "markdown",
      "metadata": {},
      "source": [
       "# Goals\n",
       "\n",
       "- Test causal relationships to infer predictivity of variables\n",
       "- Test variable ordinal ordering to find\n",
       "    1. Maximially suboptimial ordering\n",
       "    2. Random orderings\n",
       "    3. Optimal orderings\n",
       "\n",
       "\n",
       "4 Phases\n",
       "\n",
       "1 phase per day\n",
       "\n",
       "\n",
       "Today we will implement the maximally suboptimal ordering"
      ]
     },
     {
      "cell_type": "code",
      "execution_count": 6,
      "metadata": {},
      "outputs": [],
      "source": [
       "y_data = preprop[0][Y_VAR]\n",
       "\n",
       "\n",
       "def reorder(input_data, ordering):\n",
       "    mapping = {x: y for x, y in enumerate(ordering)}\n",
       "    return np.vectorize(lambda x: mapping[x])(input_data)\n",
       "\n",
       "def test_all_permutations(feature, goal, model, trials=None):\n",
       "    default_label_encoded = OrdinalEncoder().fit_transform(preprop[2][feature].reshape(-1,1)).astype(int)\n",
       "    all_labels = list(range(np.max(default_label_encoded) + 1))\n",
       "\n",
       "    \n",
       "    data = []\n",
       "    \n",
       "    \n",
       "    def run_trial(p):\n",
       "        ordered_data = reorder(default_label_encoded, p)\n",
       "        \n",
       "        X_train, X_test, y_train, y_test = train_test_split(ordered_data, y_data, test_size=0.3)\n",
       "        \n",
       "        model.fit(X_train, y_train)\n",
       "        \n",
       "        y_pred = model.predict(X_test)\n",
       "        \n",
       "        score = goal(y_test, y_pred)\n",
       "        data.append({\n",
       "            \"permutation\": p,\n",
       "            \"score\": score\n",
       "        })\n",
       "    \n",
       "    if trials != None:\n",
       "        for _ in range(trials):\n",
       "            p = np.random.permutation(all_labels)\n",
       "            run_trial(p)\n",
       "    else:\n",
       "        for p in itertools.permutations(all_labels):\n",
       "            run_trial(p)\n",
       "        \n",
       "        \n",
       "        \n",
       "    return pd.DataFrame(data)\n",
       "\n",
       "ordering_results = test_all_permutations(\"relationship\", balanced_accuracy_score, models[0][1])\n",
       "\n",
       "    "
      ]
     },
     {
      "cell_type": "code",
      "execution_count": 7,
      "metadata": {},
      "outputs": [
       {
        "data": {
         "text/html": [
          "<div>\n",
          "<style scoped>\n",
          "    .dataframe tbody tr th:only-of-type {\n",
          "        vertical-align: middle;\n",
          "    }\n",
          "\n",
          "    .dataframe tbody tr th {\n",
          "        vertical-align: top;\n",
          "    }\n",
          "\n",
          "    .dataframe thead th {\n",
          "        text-align: right;\n",
          "    }\n",
          "</style>\n",
          "<table border=\"1\" class=\"dataframe\">\n",
          "  <thead>\n",
          "    <tr style=\"text-align: right;\">\n",
          "      <th></th>\n",
          "      <th>permutation</th>\n",
          "      <th>score</th>\n",
          "    </tr>\n",
          "  </thead>\n",
          "  <tbody>\n",
          "    <tr>\n",
          "      <th>189</th>\n",
          "      <td>(1, 3, 5, 2, 4, 0)</td>\n",
          "      <td>0.534499</td>\n",
          "    </tr>\n",
          "    <tr>\n",
          "      <th>321</th>\n",
          "      <td>(2, 4, 1, 3, 5, 0)</td>\n",
          "      <td>0.534054</td>\n",
          "    </tr>\n",
          "    <tr>\n",
          "      <th>305</th>\n",
          "      <td>(2, 3, 4, 5, 1, 0)</td>\n",
          "      <td>0.534008</td>\n",
          "    </tr>\n",
          "    <tr>\n",
          "      <th>398</th>\n",
          "      <td>(3, 1, 4, 2, 0, 5)</td>\n",
          "      <td>0.533735</td>\n",
          "    </tr>\n",
          "    <tr>\n",
          "      <th>408</th>\n",
          "      <td>(3, 2, 0, 1, 4, 5)</td>\n",
          "      <td>0.533515</td>\n",
          "    </tr>\n",
          "    <tr>\n",
          "      <th>...</th>\n",
          "      <td>...</td>\n",
          "      <td>...</td>\n",
          "    </tr>\n",
          "    <tr>\n",
          "      <th>547</th>\n",
          "      <td>(4, 2, 5, 0, 3, 1)</td>\n",
          "      <td>0.482452</td>\n",
          "    </tr>\n",
          "    <tr>\n",
          "      <th>315</th>\n",
          "      <td>(2, 4, 0, 3, 5, 1)</td>\n",
          "      <td>0.482327</td>\n",
          "    </tr>\n",
          "    <tr>\n",
          "      <th>195</th>\n",
          "      <td>(1, 4, 0, 3, 5, 2)</td>\n",
          "      <td>0.481840</td>\n",
          "    </tr>\n",
          "    <tr>\n",
          "      <th>404</th>\n",
          "      <td>(3, 1, 5, 2, 0, 4)</td>\n",
          "      <td>0.481621</td>\n",
          "    </tr>\n",
          "    <tr>\n",
          "      <th>546</th>\n",
          "      <td>(4, 2, 5, 0, 1, 3)</td>\n",
          "      <td>0.481124</td>\n",
          "    </tr>\n",
          "  </tbody>\n",
          "</table>\n",
          "<p>720 rows × 2 columns</p>\n",
          "</div>"
         ],
         "text/plain": [
          "            permutation     score\n",
          "189  (1, 3, 5, 2, 4, 0)  0.534499\n",
          "321  (2, 4, 1, 3, 5, 0)  0.534054\n",
          "305  (2, 3, 4, 5, 1, 0)  0.534008\n",
          "398  (3, 1, 4, 2, 0, 5)  0.533735\n",
          "408  (3, 2, 0, 1, 4, 5)  0.533515\n",
          "..                  ...       ...\n",
          "547  (4, 2, 5, 0, 3, 1)  0.482452\n",
          "315  (2, 4, 0, 3, 5, 1)  0.482327\n",
          "195  (1, 4, 0, 3, 5, 2)  0.481840\n",
          "404  (3, 1, 5, 2, 0, 4)  0.481621\n",
          "546  (4, 2, 5, 0, 1, 3)  0.481124\n",
          "\n",
          "[720 rows x 2 columns]"
         ]
        },
        "execution_count": 7,
        "metadata": {},
        "output_type": "execute_result"
       }
      ],
      "source": [
       "ordering_results.sort_values(by=\"score\", ascending=False)"
      ]
     },
     {
      "cell_type": "code",
      "execution_count": 8,
      "metadata": {},
      "outputs": [],
      "source": [
       "def plot_permutation(feature, permutation):\n",
       "    default_label_encoded = OrdinalEncoder().fit_transform(preprop[2][feature].reshape(-1,1)).astype(int).flatten()\n",
       "    x = reorder(default_label_encoded, permutation)\n",
       "    # plt.scatter(x, y_data)\n",
       "    data = pd.DataFrame({\n",
       "        \"x\": x,\n",
       "        \"y\": y_data\n",
       "    })\n",
       "    \n",
       "    model = LogisticRegression().fit(x.reshape(-1,1), y_data)\n",
       "    \n",
       "    b = model.intercept_[0]\n",
       "    w = model.coef_.T\n",
       "    \n",
       "    # plot rates for each class\n",
       "    rates = []\n",
       "    classes = []\n",
       "    for c in data[\"x\"].unique():\n",
       "        classes.append(c)\n",
       "        rates.append(np.mean(y_data[x == c]))\n",
       "        # print(c, np.mean(y_data[x == c]))\n",
       "        \n",
       "    plt.scatter(classes, rates)\n",
       "    \n",
       "    # sns.violinplot(data, x=\"x\", y=\"y\")\n",
       "    # plt.xticks(labels=permutation)\n",
       "    plt.plot(np.repeat([-b/w], 10), np.linspace(0, 1, 10))\n",
       "    plt.plot(np.linspace(0, max(classes), 10), np.repeat([0.5], 10))\n",
       "    plt.show()\n"
      ]
     },
     {
      "cell_type": "code",
      "execution_count": 9,
      "metadata": {},
      "outputs": [],
      "source": [
       "def inverse_perm(p):\n",
       "    return np.arange(len(p))[np.argsort(p)]\n",
       "\n",
       "def reorder(input_data, ordering):\n",
       "    mapping = {x: y for x, y in enumerate(ordering)}\n",
       "    return np.vectorize(lambda x: mapping[x])(input_data)\n",
       "\n",
       "def target_encode(feature, train_index):\n",
       "    x = OrdinalEncoder().fit_transform(preprop[2][feature].reshape(-1,1)).astype(int).flatten()\n",
       "    rates = []\n",
       "    classes = []\n",
       "    for c in np.unique(x):\n",
       "        classes.append(c)\n",
       "        mask = x == c\n",
       "        filtered_train = train_index[mask[train_index]]\n",
       "        rates.append(np.mean(y_data[filtered_train]))\n",
       "        \n",
       "    rates = np.nan_to_num(rates)\n",
       "    \n",
       "              \n",
       "    return reorder(\n",
       "        x,\n",
       "        inverse_perm(np.array(classes)[np.argsort(rates)])\n",
       "    )\n",
       "    \n",
       "\n",
       "\n",
       "def random_encode(feature, _):\n",
       "    x = OrdinalEncoder().fit_transform(preprop[2][feature].reshape(-1,1)).astype(int).flatten()\n",
       "    return reorder(\n",
       "        x,\n",
       "        np.random.permutation(np.max(x) + 1)\n",
       "    )    \n",
       "    \n"
      ]
     },
     {
      "cell_type": "code",
      "execution_count": null,
      "metadata": {},
      "outputs": [],
      "source": []
     },
     {
      "cell_type": "code",
      "execution_count": 10,
      "metadata": {},
      "outputs": [],
      "source": [
       "# features = [\"relationship\", \"occupation\"]\n",
       "# target_encoded = (target_encode(x) for x in features)\n",
       "\n",
       "# X = np.array(\n",
       "#     list(zip(*target_encoded))\n",
       "# )\n",
       "\n",
       "# X_train, X_test, y_train, y_test = train_test_split(X, y_data, test_size=0.3)\n",
       "\n",
       "# model = LogisticRegression().fit(X_train, y_train)\n",
       "# y_pred = model.predict(X_test)\n",
       "# score = balanced_accuracy_score(y_test, y_pred)\n",
       "# score\n",
       "\n",
       "# # plot the rates\n",
       "# rate_data = []\n",
       "# for x in np.unique(X[:,0]):\n",
       "#     for y in np.unique(X[:,1]):\n",
       "#         rate = np.mean(y_data[np.logical_and(X[:,0] == x, X[:,1] == y)])\n",
       "        \n",
       "#         rate_data.append({\n",
       "#             \"c1\": x,\n",
       "#             \"c2\": y,\n",
       "#             \"rate\": rate\n",
       "#         })\n",
       "\n",
       "# rate_data = pd.DataFrame(rate_data)\n",
       "\n",
       "# b = model.intercept_[0]\n",
       "# w1, w2 = model.coef_.T\n",
       "\n",
       "# x_max = np.max(X[:,0])\n",
       "# x_line = np.linspace(0, x_max, 10)\n",
       "# y_line = np.vectorize(lambda x_: -b/w2 - x_*w1/w2)(x_line)\n",
       "# plt.plot(x_line, y_line)\n",
       "# sns.scatterplot(rate_data, x=\"c1\", y=\"c2\", hue=\"rate\")\n",
       "# plt.ylim(0, np.max(X[:,1]))\n",
       "\n"
      ]
     },
     {
      "cell_type": "markdown",
      "metadata": {},
      "source": [
       "# idea plot target vs random at different amounts of features on x axis\n",
       "\n",
       "compare random sampling vs target encoding"
      ]
     },
     {
      "cell_type": "code",
      "execution_count": 11,
      "metadata": {},
      "outputs": [],
      "source": [
       "def test_permutation(features, model, permutation_type, train_index, test_index, y_train, y_test, metric):\n",
       "    target_encoded = (permutation_type(x, train_index) for x in features)\n",
       "\n",
       "    X = np.array(\n",
       "        list(zip(*target_encoded))\n",
       "    )\n",
       "    \n",
       "    \n",
       "    scalar = StandardScaler().fit(X[train_index])\n",
       "    X_train, X_test = scalar.transform(X[train_index]), scalar.transform(X[test_index])\n",
       "    # X_train, X_test = X[train_index], X[test_index]\n",
       "    \n",
       "    model.fit(X_train, y_train)\n",
       "    \n",
       "    y_pred = model.predict(X_test)\n",
       "    \n",
       "    return metric(y_test, y_pred)\n",
       "\n"
      ]
     },
     {
      "cell_type": "code",
      "execution_count": 12,
      "metadata": {},
      "outputs": [],
      "source": [
       "feature_order = list(reversed([\n",
       "    'relationship',\n",
       "    'occupation',\n",
       "    'education',\n",
       "    'age',\n",
       "    'hours-per-week',\n",
       "    'marital-status',\n",
       "    'workclass',\n",
       "    'race',\n",
       "    'native-country'\n",
       "]))\n",
       "\n",
       "\n",
       "train_index, test_index = train_test_split(np.arange(len(y_data)), test_size=0.3)\n",
       "y_train, y_test = y_data[train_index], y_data[test_index]\n",
       "\n",
       "data = []\n",
       "\n",
       "model = models[0][1]\n",
       "\n",
       "for i in range(len(feature_order)):\n",
       "    features = feature_order[i:]\n",
       "    data.append({\n",
       "        \"score\": test_permutation(features, model, target_encode, train_index, test_index, y_train, y_test, balanced_accuracy_score),\n",
       "        \"model\": model,\n",
       "        \"ptype\": \"target\",\n",
       "        \"index\": i\n",
       "    })\n",
       "    \n",
       "    for _ in range(30):\n",
       "        data.append({\n",
       "            \"score\": test_permutation(features, model, random_encode, train_index, test_index, y_train, y_test, balanced_accuracy_score),\n",
       "            \"model\": model,\n",
       "            \"ptype\": \"random\",\n",
       "            \"index\": i\n",
       "        })\n",
       "        \n",
       "data = pd.DataFrame(data)\n",
       "data.to_csv('back.csv')"
      ]
     },
     {
      "cell_type": "code",
      "execution_count": 18,
      "metadata": {},
      "outputs": [
       {
        "data": {
         "text/plain": [
          "<AxesSubplot: xlabel='missing_features', ylabel='balanced_accuracy_score'>"
         ]
        },
        "execution_count": 18,
        "metadata": {},
        "output_type": "execute_result"
       },
       {
        "data": {
         "image/png": "[encoded data removed]",
         "text/plain": [
          "<Figure size 640x480 with 1 Axes>"
         ]
        },
        "metadata": {},
        "output_type": "display_data"
       }
      ],
      "source": [
       "# target_encoded_data = data[data['ptype'] == 'target']\n",
       "# print(target_encoded_data)\n",
       "# plt.plot()\n",
       "datap = data.copy()\n",
       "datap = datap.rename({\n",
       "    \"ptype\": \"mapping_type\",\n",
       "    \"score\": \"balanced_accuracy_score\",\n",
       "    \"index\": \"missing_features\"\n",
       "}, axis='columns')\n",
       "sns.lineplot(datap, x='missing_features', y='balanced_accuracy_score', hue='mapping_type', errorbar=('se', 2))"
      ]
     },
     {
      "cell_type": "code",
      "execution_count": 78,
      "metadata": {},
      "outputs": [
       {
        "data": {
         "text/plain": [
          "41"
         ]
        },
        "execution_count": 78,
        "metadata": {},
        "output_type": "execute_result"
       }
      ],
      "source": [
       "len(np.unique(preprop[2]['native-country']))"
      ]
     },
     {
      "cell_type": "code",
      "execution_count": 12,
      "metadata": {},
      "outputs": [],
      "source": [
       "feature_order = list(reversed([\n",
       "    'relationship',\n",
       "    'occupation',\n",
       "    'marital-status',\n",
       "    'workclass',\n",
       "    'race',\n",
       "    'native-country'\n",
       "]))\n",
       "\n",
       "train_index, test_index = train_test_split(np.arange(len(y_data)), test_size=0.3)\n",
       "y_train, y_test = y_data[train_index], y_data[test_index]\n",
       "\n",
       "data = []\n",
       "\n",
       "model = models[0][1]\n",
       "\n",
       "for i in range(len(feature_order)):\n",
       "    features = feature_order[i:]\n",
       "    data.append({\n",
       "        \"score\": test_permutation(\n",
       "            features, \n",
       "            model, \n",
       "            target_encode, \n",
       "            train_index, \n",
       "            test_index, \n",
       "            y_train, \n",
       "            y_test, \n",
       "            balanced_accuracy_score\n",
       "        ),\n",
       "        \"model\": model,\n",
       "        \"ptype\": \"target\",\n",
       "        \"index\": i\n",
       "    })\n",
       "    \n",
       "    for _ in range(30):\n",
       "        data.append({\n",
       "            \"score\": test_permutation(\n",
       "                features, \n",
       "                model, \n",
       "                random_encode, \n",
       "                train_index, \n",
       "                test_index, \n",
       "                y_train, \n",
       "                y_test, \n",
       "                balanced_accuracy_score\n",
       "            ),\n",
       "            \"model\": model,\n",
       "            \"ptype\": \"random\",\n",
       "            \"index\": i\n",
       "        })\n",
       "        \n",
       "data = pd.DataFrame(data)\n",
       "data.to_csv('non-natural-ordinal.csv')\n"
      ]
     },
     {
      "cell_type": "code",
      "execution_count": 17,
      "metadata": {},
      "outputs": [
       {
        "data": {
         "text/plain": [
          "<AxesSubplot: xlabel='missing_features', ylabel='balanced_accuracy_score'>"
         ]
        },
        "execution_count": 17,
        "metadata": {},
        "output_type": "execute_result"
       },
       {
        "data": {
         "image/png": "[encoded data removed]",
         "text/plain": [
          "<Figure size 640x480 with 1 Axes>"
         ]
        },
        "metadata": {},
        "output_type": "display_data"
       }
      ],
      "source": [
       "datap = data.copy()\n",
       "datap = datap.rename({\n",
       "    \"ptype\": \"mapping_type\",\n",
       "    \"score\": \"balanced_accuracy_score\",\n",
       "    \"index\": \"missing_features\"\n",
       "}, axis='columns')\n",
       "sns.lineplot(datap, x='missing_features', y='balanced_accuracy_score', hue='mapping_type', errorbar=('se', 2))"
      ]
     },
     {
      "cell_type": "code",
      "execution_count": 14,
      "metadata": {},
      "outputs": [],
      "source": [
       "feature_order = list(reversed([\n",
       "    'education',\n",
       "    'age',\n",
       "    'hours-per-week'\n",
       "]))\n",
       "\n",
       "train_index, test_index = train_test_split(np.arange(len(y_data)), test_size=0.3)\n",
       "y_train, y_test = y_data[train_index], y_data[test_index]\n",
       "\n",
       "data = []\n",
       "\n",
       "model = models[0][1]\n",
       "\n",
       "for i in range(len(feature_order)):\n",
       "    features = feature_order[i:]\n",
       "    data.append({\n",
       "        \"score\": test_permutation(\n",
       "            features, \n",
       "            model, \n",
       "            target_encode, \n",
       "            train_index, \n",
       "            test_index, \n",
       "            y_train, \n",
       "            y_test, \n",
       "            balanced_accuracy_score\n",
       "        ),\n",
       "        \"model\": model,\n",
       "        \"ptype\": \"target\",\n",
       "        \"index\": i\n",
       "    })\n",
       "    \n",
       "    for _ in range(30):\n",
       "        data.append({\n",
       "            \"score\": test_permutation(\n",
       "                features, \n",
       "                model, \n",
       "                random_encode, \n",
       "                train_index, \n",
       "                test_index, \n",
       "                y_train, \n",
       "                y_test, \n",
       "                balanced_accuracy_score\n",
       "            ),\n",
       "            \"model\": model,\n",
       "            \"ptype\": \"random\",\n",
       "            \"index\": i\n",
       "        })\n",
       "        \n",
       "data = pd.DataFrame(data)\n",
       "data.to_csv('natural-ordinal.csv')\n"
      ]
     },
     {
      "cell_type": "code",
      "execution_count": 16,
      "metadata": {},
      "outputs": [
       {
        "data": {
         "text/plain": [
          "<AxesSubplot: xlabel='missing_features', ylabel='balanced_accuracy_score'>"
         ]
        },
        "execution_count": 16,
        "metadata": {},
        "output_type": "execute_result"
       },
       {
        "data": {
         "image/png": "[encoded data removed]",
         "text/plain": [
          "<Figure size 640x480 with 1 Axes>"
         ]
        },
        "metadata": {},
        "output_type": "display_data"
       }
      ],
      "source": [
       "datap = data.copy()\n",
       "datap = datap.rename({\n",
       "    \"ptype\": \"mapping_type\",\n",
       "    \"score\": \"balanced_accuracy_score\",\n",
       "    \"index\": \"missing_features\"\n",
       "}, axis='columns')\n",
       "sns.lineplot(datap, x='missing_features', y='balanced_accuracy_score', hue='mapping_type', errorbar=('se', 2))"
      ]
     },
     {
      "cell_type": "code",
      "execution_count": 21,
      "metadata": {},
      "outputs": [
       {
        "name": "stderr",
        "output_type": "stream",
        "text": [
         "Process Process-20:\n",
         "Traceback (most recent call last):\n",
         "  File \"/home/koppd/.conda/envs/tf2/lib/python3.9/multiprocessing/process.py\", line 315, in _bootstrap\n",
         "    self.run()\n",
         "  File \"/home/koppd/.conda/envs/tf2/lib/python3.9/multiprocessing/process.py\", line 108, in run\n",
         "    self._target(*self._args, **self._kwargs)\n",
         "  File \"/home/koppd/.conda/envs/tf2/lib/python3.9/site-packages/cdt/utils/parallel.py\", line 54, in worker_subprocess\n",
         "    output = function(*args, **kwargs, device=device, idx=idx)\n",
         "  File \"/home/koppd/.conda/envs/tf2/lib/python3.9/site-packages/cdt/causality/graph/SAM.py\", line 216, in run_SAM\n",
         "    data = th.from_numpy(data).to(device)\n",
         "  File \"/home/koppd/.conda/envs/tf2/lib/python3.9/site-packages/torch/cuda/__init__.py\", line 289, in _lazy_init\n",
         "    raise AssertionError(\"Torch not compiled with CUDA enabled\")\n",
         "AssertionError: Torch not compiled with CUDA enabled\n"
        ]
       },
       {
        "ename": "KeyboardInterrupt",
        "evalue": "",
        "output_type": "error",
        "traceback": [
         "\u001b[0;31m---------------------------------------------------------------------------\u001b[0m",
         "\u001b[0;31mKeyboardInterrupt\u001b[0m                         Traceback (most recent call last)",
         "\u001b[0;32m/tmp/ipykernel_253135/2978331702.py\u001b[0m in \u001b[0;36m<module>\u001b[0;34m\u001b[0m\n\u001b[1;32m     33\u001b[0m \u001b[0;31m# Initialize and apply GES algorithm (Replace 'data' with your DataFrame variable)\u001b[0m\u001b[0;34m\u001b[0m\u001b[0;34m\u001b[0m\u001b[0m\n\u001b[1;32m     34\u001b[0m \u001b[0mmodel\u001b[0m \u001b[0;34m=\u001b[0m \u001b[0mSAM\u001b[0m\u001b[0;34m(\u001b[0m\u001b[0;34m)\u001b[0m\u001b[0;34m\u001b[0m\u001b[0;34m\u001b[0m\u001b[0m\n\u001b[0;32m---> 35\u001b[0;31m \u001b[0moutput_graph\u001b[0m \u001b[0;34m=\u001b[0m \u001b[0mmodel\u001b[0m\u001b[0;34m.\u001b[0m\u001b[0mpredict\u001b[0m\u001b[0;34m(\u001b[0m\u001b[0mdata\u001b[0m\u001b[0;34m)\u001b[0m\u001b[0;34m\u001b[0m\u001b[0;34m\u001b[0m\u001b[0m\n\u001b[0m\u001b[1;32m     36\u001b[0m \u001b[0;34m\u001b[0m\u001b[0m\n\u001b[1;32m     37\u001b[0m \u001b[0;31m# Visualization of the output graph\u001b[0m\u001b[0;34m\u001b[0m\u001b[0;34m\u001b[0m\u001b[0m\n",
         "\u001b[0;32m~/.conda/envs/tf2/lib/python3.9/site-packages/cdt/causality/graph/SAM.py\u001b[0m in \u001b[0;36mpredict\u001b[0;34m(self, data, graph, return_list_results)\u001b[0m\n\u001b[1;32m    534\u001b[0m                                device='cpu') for i in range(self.nruns)]\n\u001b[1;32m    535\u001b[0m         \u001b[0;32melse\u001b[0m\u001b[0;34m:\u001b[0m\u001b[0;34m\u001b[0m\u001b[0;34m\u001b[0m\u001b[0m\n\u001b[0;32m--> 536\u001b[0;31m             results = parallel_run(run_SAM, data, skeleton=skeleton,\n\u001b[0m\u001b[1;32m    537\u001b[0m                                    \u001b[0mnruns\u001b[0m\u001b[0;34m=\u001b[0m\u001b[0mself\u001b[0m\u001b[0;34m.\u001b[0m\u001b[0mnruns\u001b[0m\u001b[0;34m,\u001b[0m\u001b[0;34m\u001b[0m\u001b[0;34m\u001b[0m\u001b[0m\n\u001b[1;32m    538\u001b[0m                                    \u001b[0mnjobs\u001b[0m\u001b[0;34m=\u001b[0m\u001b[0mself\u001b[0m\u001b[0;34m.\u001b[0m\u001b[0mnjobs\u001b[0m\u001b[0;34m,\u001b[0m \u001b[0mgpus\u001b[0m\u001b[0;34m=\u001b[0m\u001b[0mself\u001b[0m\u001b[0;34m.\u001b[0m\u001b[0mgpus\u001b[0m\u001b[0;34m,\u001b[0m\u001b[0;34m\u001b[0m\u001b[0;34m\u001b[0m\u001b[0m\n",
         "\u001b[0;32m~/.conda/envs/tf2/lib/python3.9/site-packages/cdt/utils/parallel.py\u001b[0m in \u001b[0;36mparallel_run\u001b[0;34m(function, nruns, njobs, gpus, *args, **kwargs)\u001b[0m\n\u001b[1;32m    119\u001b[0m         \u001b[0mp\u001b[0m\u001b[0;34m.\u001b[0m\u001b[0mstart\u001b[0m\u001b[0;34m(\u001b[0m\u001b[0;34m)\u001b[0m\u001b[0;34m\u001b[0m\u001b[0;34m\u001b[0m\u001b[0m\n\u001b[1;32m    120\u001b[0m     \u001b[0;32mfor\u001b[0m \u001b[0mp\u001b[0m \u001b[0;32min\u001b[0m \u001b[0mpoll\u001b[0m\u001b[0;34m:\u001b[0m\u001b[0;34m\u001b[0m\u001b[0;34m\u001b[0m\u001b[0m\n\u001b[0;32m--> 121\u001b[0;31m         \u001b[0mp\u001b[0m\u001b[0;34m.\u001b[0m\u001b[0mjoin\u001b[0m\u001b[0;34m(\u001b[0m\u001b[0;34m)\u001b[0m\u001b[0;34m\u001b[0m\u001b[0;34m\u001b[0m\u001b[0m\n\u001b[0m\u001b[1;32m    122\u001b[0m \u001b[0;34m\u001b[0m\u001b[0m\n\u001b[1;32m    123\u001b[0m     \u001b[0;32mreturn\u001b[0m \u001b[0mlist\u001b[0m\u001b[0;34m(\u001b[0m\u001b[0mresults\u001b[0m\u001b[0;34m)\u001b[0m\u001b[0;34m\u001b[0m\u001b[0;34m\u001b[0m\u001b[0m\n",
         "\u001b[0;32m~/.conda/envs/tf2/lib/python3.9/multiprocessing/process.py\u001b[0m in \u001b[0;36mjoin\u001b[0;34m(self, timeout)\u001b[0m\n\u001b[1;32m    147\u001b[0m         \u001b[0;32massert\u001b[0m \u001b[0mself\u001b[0m\u001b[0;34m.\u001b[0m\u001b[0m_parent_pid\u001b[0m \u001b[0;34m==\u001b[0m \u001b[0mos\u001b[0m\u001b[0;34m.\u001b[0m\u001b[0mgetpid\u001b[0m\u001b[0;34m(\u001b[0m\u001b[0;34m)\u001b[0m\u001b[0;34m,\u001b[0m \u001b[0;34m'can only join a child process'\u001b[0m\u001b[0;34m\u001b[0m\u001b[0;34m\u001b[0m\u001b[0m\n\u001b[1;32m    148\u001b[0m         \u001b[0;32massert\u001b[0m \u001b[0mself\u001b[0m\u001b[0;34m.\u001b[0m\u001b[0m_popen\u001b[0m \u001b[0;32mis\u001b[0m \u001b[0;32mnot\u001b[0m \u001b[0;32mNone\u001b[0m\u001b[0;34m,\u001b[0m \u001b[0;34m'can only join a started process'\u001b[0m\u001b[0;34m\u001b[0m\u001b[0;34m\u001b[0m\u001b[0m\n\u001b[0;32m--> 149\u001b[0;31m         \u001b[0mres\u001b[0m \u001b[0;34m=\u001b[0m \u001b[0mself\u001b[0m\u001b[0;34m.\u001b[0m\u001b[0m_popen\u001b[0m\u001b[0;34m.\u001b[0m\u001b[0mwait\u001b[0m\u001b[0;34m(\u001b[0m\u001b[0mtimeout\u001b[0m\u001b[0;34m)\u001b[0m\u001b[0;34m\u001b[0m\u001b[0;34m\u001b[0m\u001b[0m\n\u001b[0m\u001b[1;32m    150\u001b[0m         \u001b[0;32mif\u001b[0m \u001b[0mres\u001b[0m \u001b[0;32mis\u001b[0m \u001b[0;32mnot\u001b[0m \u001b[0;32mNone\u001b[0m\u001b[0;34m:\u001b[0m\u001b[0;34m\u001b[0m\u001b[0;34m\u001b[0m\u001b[0m\n\u001b[1;32m    151\u001b[0m             \u001b[0m_children\u001b[0m\u001b[0;34m.\u001b[0m\u001b[0mdiscard\u001b[0m\u001b[0;34m(\u001b[0m\u001b[0mself\u001b[0m\u001b[0;34m)\u001b[0m\u001b[0;34m\u001b[0m\u001b[0;34m\u001b[0m\u001b[0m\n",
         "\u001b[0;32m~/.conda/envs/tf2/lib/python3.9/multiprocessing/popen_fork.py\u001b[0m in \u001b[0;36mwait\u001b[0;34m(self, timeout)\u001b[0m\n\u001b[1;32m     41\u001b[0m                     \u001b[0;32mreturn\u001b[0m \u001b[0;32mNone\u001b[0m\u001b[0;34m\u001b[0m\u001b[0;34m\u001b[0m\u001b[0m\n\u001b[1;32m     42\u001b[0m             \u001b[0;31m# This shouldn't block if wait() returned successfully.\u001b[0m\u001b[0;34m\u001b[0m\u001b[0;34m\u001b[0m\u001b[0m\n\u001b[0;32m---> 43\u001b[0;31m             \u001b[0;32mreturn\u001b[0m \u001b[0mself\u001b[0m\u001b[0;34m.\u001b[0m\u001b[0mpoll\u001b[0m\u001b[0;34m(\u001b[0m\u001b[0mos\u001b[0m\u001b[0;34m.\u001b[0m\u001b[0mWNOHANG\u001b[0m \u001b[0;32mif\u001b[0m \u001b[0mtimeout\u001b[0m \u001b[0;34m==\u001b[0m \u001b[0;36m0.0\u001b[0m \u001b[0;32melse\u001b[0m \u001b[0;36m0\u001b[0m\u001b[0;34m)\u001b[0m\u001b[0;34m\u001b[0m\u001b[0;34m\u001b[0m\u001b[0m\n\u001b[0m\u001b[1;32m     44\u001b[0m         \u001b[0;32mreturn\u001b[0m \u001b[0mself\u001b[0m\u001b[0;34m.\u001b[0m\u001b[0mreturncode\u001b[0m\u001b[0;34m\u001b[0m\u001b[0;34m\u001b[0m\u001b[0m\n\u001b[1;32m     45\u001b[0m \u001b[0;34m\u001b[0m\u001b[0m\n",
         "\u001b[0;32m~/.conda/envs/tf2/lib/python3.9/multiprocessing/popen_fork.py\u001b[0m in \u001b[0;36mpoll\u001b[0;34m(self, flag)\u001b[0m\n\u001b[1;32m     25\u001b[0m         \u001b[0;32mif\u001b[0m \u001b[0mself\u001b[0m\u001b[0;34m.\u001b[0m\u001b[0mreturncode\u001b[0m \u001b[0;32mis\u001b[0m \u001b[0;32mNone\u001b[0m\u001b[0;34m:\u001b[0m\u001b[0;34m\u001b[0m\u001b[0;34m\u001b[0m\u001b[0m\n\u001b[1;32m     26\u001b[0m             \u001b[0;32mtry\u001b[0m\u001b[0;34m:\u001b[0m\u001b[0;34m\u001b[0m\u001b[0;34m\u001b[0m\u001b[0m\n\u001b[0;32m---> 27\u001b[0;31m                 \u001b[0mpid\u001b[0m\u001b[0;34m,\u001b[0m \u001b[0msts\u001b[0m \u001b[0;34m=\u001b[0m \u001b[0mos\u001b[0m\u001b[0;34m.\u001b[0m\u001b[0mwaitpid\u001b[0m\u001b[0;34m(\u001b[0m\u001b[0mself\u001b[0m\u001b[0;34m.\u001b[0m\u001b[0mpid\u001b[0m\u001b[0;34m,\u001b[0m \u001b[0mflag\u001b[0m\u001b[0;34m)\u001b[0m\u001b[0;34m\u001b[0m\u001b[0;34m\u001b[0m\u001b[0m\n\u001b[0m\u001b[1;32m     28\u001b[0m             \u001b[0;32mexcept\u001b[0m \u001b[0mOSError\u001b[0m\u001b[0;34m:\u001b[0m\u001b[0;34m\u001b[0m\u001b[0;34m\u001b[0m\u001b[0m\n\u001b[1;32m     29\u001b[0m                 \u001b[0;31m# Child process not yet created. See #1731717\u001b[0m\u001b[0;34m\u001b[0m\u001b[0;34m\u001b[0m\u001b[0m\n",
         "\u001b[0;31mKeyboardInterrupt\u001b[0m: "
        ]
       }
      ],
      "source": [
       "from cdt.causality.graph import SAM\n",
       "import networkx as nx\n",
       "import matplotlib.pyplot as plt\n",
       "import numpy as np\n",
       "\n",
       "\n",
       "feature_order = list(reversed([\n",
       "    'relationship',\n",
       "    'occupation',\n",
       "    'education',\n",
       "    'age',\n",
       "    'hours-per-week',\n",
       "    'marital-status',\n",
       "    'workclass',\n",
       "    'race',\n",
       "    'native-country'\n",
       "]))\n",
       "\n",
       "# def test_permutation(features, model, permutation_type, train_index, test_index, y_train, y_test, metric):\n",
       "target_encoded = (target_encode(x, train_index) for x in feature_order)\n",
       "\n",
       "X = np.array(\n",
       "    list(zip(*target_encoded))\n",
       ")\n",
       "\n",
       "\n",
       "scalar = StandardScaler().fit(X[train_index])\n",
       "data = scalar.transform(X[train_index])\n",
       "\n",
       "data = pd.DataFrame(data)\n",
       "\n",
       "\n",
       "# Initialize and apply GES algorithm (Replace 'data' with your DataFrame variable)\n",
       "model = SAM()\n",
       "output_graph = model.predict(data)\n",
       "\n",
       "# Visualization of the output graph\n",
       "plt.figure(figsize=(12, 8))\n",
       "nx.draw_networkx(output_graph, with_labels=True, node_color='skyblue', font_size=10, node_size=500)\n",
       "plt.title(\"Causal Graph using SAM Algorithm\")\n",
       "plt.show()\n"
      ]
     },
     {
      "cell_type": "code",
      "execution_count": null,
      "metadata": {},
      "outputs": [],
      "source": []
     }
    ],
    "metadata": {
     "kernelspec": {
      "display_name": "tf2",
      "language": "python",
      "name": "python3"
     },
     "language_info": {
      "codemirror_mode": {
       "name": "ipython",
       "version": 3
      },
      "file_extension": ".py",
      "mimetype": "text/x-python",
      "name": "python",
      "nbconvert_exporter": "python",
      "pygments_lexer": "ipython3",
      "version": "3.9.0"
     }
    },
    "nbformat": 4,
    "nbformat_minor": 2
   }
   